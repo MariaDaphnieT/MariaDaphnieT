{
  "nbformat": 4,
  "nbformat_minor": 0,
  "metadata": {
    "colab": {
      "name": "Nasscom project.ipynb",
      "provenance": [],
      "authorship_tag": "ABX9TyP8gEZEWfkAvXMYalDiaUP9",
      "include_colab_link": true
    },
    "kernelspec": {
      "name": "python3",
      "display_name": "Python 3"
    },
    "language_info": {
      "name": "python"
    }
  },
  "cells": [
    {
      "cell_type": "markdown",
      "metadata": {
        "id": "view-in-github",
        "colab_type": "text"
      },
      "source": [
        "<a href=\"https://colab.research.google.com/github/MariaDaphnieT/MariaDaphnieT/blob/main/Nasscom_project.ipynb\" target=\"_parent\"><img src=\"https://colab.research.google.com/assets/colab-badge.svg\" alt=\"Open In Colab\"/></a>"
      ]
    },
    {
      "cell_type": "code",
      "metadata": {
        "colab": {
          "base_uri": "https://localhost:8080/"
        },
        "id": "KlTNErUCWvoD",
        "outputId": "d7f12b08-d5e3-4733-a957-32b50d6efb58"
      },
      "source": [
        "# Python program to check validation of password\n",
        "# Module of regular expression is used with search()\n",
        "import re\n",
        "password = \"Aria@2021\"\n",
        "flag = 0\n",
        "while True:  \n",
        "    if (len(password)<8):\n",
        "        flag = -1\n",
        "        break\n",
        "    elif not re.search(\"[a-z]\", password):\n",
        "        flag = -1\n",
        "        break\n",
        "    elif not re.search(\"[A-Z]\", password):\n",
        "        flag = -1\n",
        "        break\n",
        "    elif not re.search(\"[0-9]\", password):\n",
        "        flag = -1\n",
        "        break\n",
        "    elif not re.search(\"[_@$]\", password):\n",
        "        flag = -1\n",
        "        break\n",
        "    elif re.search(\"\\s\", password):\n",
        "        flag = -1\n",
        "        break\n",
        "    else:\n",
        "        flag = 0\n",
        "        print(\"Valid Password\")\n",
        "        break\n",
        "  \n",
        "if flag ==-1:\n",
        "    print(\"Not a Valid Password\")"
      ],
      "execution_count": null,
      "outputs": [
        {
          "output_type": "stream",
          "name": "stdout",
          "text": [
            "Valid Password\n"
          ]
        }
      ]
    }
  ]
}